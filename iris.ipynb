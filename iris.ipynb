# %%
import pandas as pd
import numpy as np
from matplotlib import pyplot as plt
#%matplotlib inline
import matplotlib 
matplotlib.rcParams["figure.figsize"] = (20,10)

# %%
data=pd.read_csv('Bengaluru_House_Data.csv')

# %%
data.head()
# data.describe

# %%
data.shape

# %%
data.columns

# %%
data['area_type'].unique()

# %%
data['area_type'].value_counts()

# %%
data2 = data.drop(['area_type','society','balcony','availability'],axis='columns')
data2.shape

# %%

data2.isnull().sum()

# %%
data3 = data2.dropna()
data3.isnull().sum()

# %%

data3['size'].unique()

# %%
data3['bhk'] = data3['size'].apply(lambda x: int(x.split(' ')[0]))
data3.bhk.unique()

# %%

data3.head()

# %%

data3[data3.bhk> 10]

# %%

data3.dtypes

# %%

data3.total_sqft.unique()

# %%
def is_a_float(x):
    try: 
        float(x)
    except:
        return False
    return True

# %%
data3[~data3['total_sqft'].apply(is_a_float)].head(10)

# %%
def takes_maximum(x):
    token = x.split('-') # splitting 2100 - 2850 into two tokens
    if len(token)==2:
        return (max(float(token[0]), float(token[1])))
    try:
        return float(x)
    except:
        return None
        

# %%
takes_maximum('3067 - 8156')

# %%
takes_maximum('3067')

# %%
takes_maximum('34.46Sq. Meter')

# %%
data4 = data3.copy()
data4.total_sqft = data4.total_sqft.apply(takes_maximum)

# %%
data4= data4[data4.total_sqft.notnull()]

# %%
data4.head(10)

# %%
data5 = data4.copy()

# %%
data5['price_per_sqft'] = data5['price']*100000/data5['total_sqft']
data5.head()

# %%
data5.location.unique()

# %%
len(data5.location.unique())

# %%
data5.location = data5.location.apply(lambda x: x.strip())

loc_stat = data5.groupby('location')['location'].agg('count').sort_values(ascending=False)

# %%

loc_stat.unique()

# %%
loc_stats_less_than_10 = loc_stat[loc_stat<=10]

# %%

loc_stats_less_than_10

# %%

len(loc_stats_less_than_10)

# %%
len(data5.location.unique())

# %%
data5.location = data5.location.apply(lambda x: 'other' if x in loc_stats_less_than_10 else x)
len(data5.location.unique())

# %%

data5.head(10)

# %%
data5.groupby('location')['location'].agg('count').sort_values(ascending=True)

# %%
data5.groupby('location')['location'].agg('count').nlargest(n=20).plot(kind='bar',rot=90,figsize=(10, 8),subplots=True,sharex=True,sharey=True,legend=True,grid=True,fontsize=16.0)

# %%

data5[(data5.location=='other')]

# %%
data5[data5.total_sqft/data5.bhk<300].head()

# %%

data6 =data5[~(data5.total_sqft/data5.bhk<300)]

# %%
data6.shape

# %%
data6.price_per_sqft.describe()

# %%
def remove_outlier_ppsft_location(data):
    data_out = pd.DataFrame()
    for key, subdata in data.groupby('location'):
        m = np.mean(subdata.price_per_sqft)
        sd = np.std(subdata.price_per_sqft)
        reduced_data = subdata[(subdata.price_per_sqft > (m - sd)) & (subdata.price_per_sqft <= (m + sd))]
        data_out = pd.concat([data_out, reduced_data], ignore_index=True)
    return data_out

data7 = remove_outlier_ppsft_location(data6)
print(data7.shape)

# %%
def plot_scatter_chart(data, location):
    bhk1 = data[(data.location == location) & (data.bhk == 1)]
    bhk2 = data[(data.location == location) & (data.bhk == 2)]
    bhk3 = data[(data.location == location) & (data.bhk == 3)]
    
    matplotlib.rcParams['figure.figsize'] = (16, 10)
    font = {'family': 'normal',
            'weight': 'bold',
            'size': 22}
    matplotlib.rc('font', **font)
     
    plt.scatter(bhk2.total_sqft, bhk2.price, color='blue', label='2 BHK', s=100)
    plt.scatter(bhk3.total_sqft, bhk3.price, marker='+', color='green', label='3 BHK', s=100)
    plt.scatter(bhk1.total_sqft, bhk1.price, marker='X', color='red', label='1 BHK', s=100)
    
    plt.xlabel("Total Square Feet Area")
    plt.ylabel("Price (Lakh Indian Rupees)")
    
    plt.title(location)
    plt.legend()

plot_scatter_chart(data7, "Whitefield")

# %%
plot_scatter_chart(data7,"Electronic City")

# %%
def remove_bhk_outliers(data):
    exclude_indices = np.array([])
    for location, location_data in data.groupby('location'):
        bhk_stats = {}
        for bhk, bhk_data in location_data.groupby('bhk'):
            bhk_stats[bhk] = {
                'mean': np.mean(bhk_data.price_per_sqft),
                'std': np.std(bhk_data.price_per_sqft),
                'count': bhk_data.shape[0]
            }
        for bhk, bhk_data in location_data.groupby('bhk'):
            stats = bhk_stats.get(bhk-1)
            if stats and stats['count'] > 5:
                exclude_indices = np.append(exclude_indices, bhk_data[bhk_data.price_per_sqft < (stats['mean'])].index.values)
    return data.drop(exclude_indices, axis='index')

data8 = remove_bhk_outliers(data7)


# %%
plot_scatter_chart(data8,"Electronic City")

# %%
import matplotlib
matplotlib.rcParams["figure.figsize"] = (20,10)
font = {'family' : 'normal',
    'weight' : 'bold',
    'size'   : 22}
matplotlib.rc('font', **font)
plt.hist(data8.price_per_sqft,rwidth=0.8)
plt.xlabel("Price Per Square Feet")
plt.ylabel("Count")

# %%
data8.bath.unique()

# %%
data8[(data8['bath']>10)]

# %%
fig, axes = plt.subplots(1, 2)

data8.bath.plot(kind='hist',ax=axes[0],title='Bath')
data8.bhk.plot(kind='hist',ax=axes[1],title='BHK')

plt.show()

# %%
data8[data8.bath> data8.bhk+2]

# %%
data9= data8[data8.bath<data8.bhk+2]
data9.shape

# %%
data9.head(10)

# %%
data10 = data9.drop(['size','price_per_sqft'],axis='columns')

# %%
dummy_col = pd.get_dummies(data10.location)
dummy_col.head(5)

# %%
data11 = pd.concat([data10,dummy_col.drop('other',axis='columns') ], axis='columns' )
data11.head()

# %%
X =data11.drop(['location','price'], axis='columns')

# %%
X.head()

# %%
Y = data11.price
Y

# %%
from sklearn.model_selection import train_test_split
X_train, X_test, y_train, y_test = train_test_split(X,Y,test_size=0.2,random_state=10)


# %%
from sklearn.linear_model import LinearRegression
lr_clf = LinearRegression()
lr_clf.fit(X_train,y_train)
print ('Linear Regression R score')
print ('----------')
lr_clf.score(X_test,y_test)

# %%
from sklearn.model_selection import ShuffleSplit
from sklearn.model_selection import cross_val_score

# %%
cv = ShuffleSplit(n_splits=10, test_size=0.2, random_state=0)

# %%
cross_val_score(LinearRegression(), X,Y, cv=cv)

# %%
from sklearn.model_selection import GridSearchCV

# %%
from sklearn.linear_model import Lasso
from sklearn.tree import DecisionTreeRegressor

# %%
def find_best_model_using_gridsearchcv(X,y):
    algos = {
        'linear_regression' : {
            'model': LinearRegression(),
            'params': {
                'normalize': [True, False]
            }
        },
        'lasso': {
            'model': Lasso(),
            'params': {
                'alpha': [1,2],
                'selection': ['random', 'cyclic']
            }
        },
        'decision_tree': {
            'model': DecisionTreeRegressor(),
            'params': {
                'criterion' : ['mse','friedman_mse'],
                'splitter': ['best','random']
            }
        }
    }
    scores = []
    cv = ShuffleSplit(n_splits=5, test_size=0.2, random_state=0)
    for algo_name, config in algos.items():
        gs =  GridSearchCV(config['model'], config['params'], cv=cv, return_train_score=False)
        gs.fit(X,y)
        scores.append({
            'model': algo_name,
            'best_score': gs.best_score_,
            'best_params': gs.best_params_
        })

    return pd.DataFrame(scores,columns=['model','best_score','best_params'])
    find_best_model_using_gridsearchcv(X,Y)

# %%
def predict_price(location,sqft,bath,bhk):    
    loc_index = np.where(X.columns==location)[0][0]

    x = np.zeros(len(X.columns))
    x[0] = sqft
    x[1] = bath
    x[2] = bhk
    if loc_index >= 0:
        x[loc_index] = 1

    return lr_clf.predict([x])[0]

# %%

predict_price('1st Phase JP Nagar',1000, 2, 2)

# %%
import pickle
with open('banglore_home_prices_model.pickle','wb') as f:
    pickle.dump(lr_clf,f)

# %%
import json
columns = {
    'data_columns' : [col.lower() for col in X.columns]
}
with open("columns.json","w") as f:
    f.write(json.dumps(columns))


